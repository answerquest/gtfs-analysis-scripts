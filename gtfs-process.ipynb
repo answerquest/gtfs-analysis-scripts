{
 "cells": [
  {
   "cell_type": "markdown",
   "id": "641044b5-220a-4c83-ad3d-4dd79b41ff65",
   "metadata": {},
   "source": [
    "## Convert a GTFS feed's files into more workable-with merged form, aggregates, and create route lines shapefile"
   ]
  },
  {
   "cell_type": "code",
   "execution_count": 1,
   "id": "d69981f2-10ba-4140-8525-6b5f3d2fc03b",
   "metadata": {
    "tags": []
   },
   "outputs": [],
   "source": [
    "import pandas as pd\n",
    "import geopandas as gpd\n",
    "from shapely import wkt"
   ]
  },
  {
   "cell_type": "code",
   "execution_count": null,
   "id": "1d37e491-fdeb-4963-8a71-b06da3ebfb74",
   "metadata": {
    "tags": []
   },
   "outputs": [],
   "source": []
  },
  {
   "cell_type": "code",
   "execution_count": 2,
   "id": "de6d2ff1-f946-4011-9ff8-4ae6cb5a2201",
   "metadata": {
    "tags": []
   },
   "outputs": [],
   "source": [
    "stopsf = 'gtfs/stops.txt'\n",
    "routesf = 'gtfs/routes.txt'\n",
    "tripsf = 'gtfs/trips.txt'\n",
    "stf = 'gtfs/stop_times.txt'"
   ]
  },
  {
   "cell_type": "code",
   "execution_count": 3,
   "id": "9a186ac5-7cce-4dcd-a6eb-1967bcfa36ea",
   "metadata": {
    "tags": []
   },
   "outputs": [],
   "source": [
    "df_st = pd.read_csv(stf)"
   ]
  },
  {
   "cell_type": "code",
   "execution_count": 4,
   "id": "9c081aec-4918-47f2-ad38-c5db9b2c0ba7",
   "metadata": {
    "tags": []
   },
   "outputs": [],
   "source": [
    "df_t = pd.read_csv(tripsf)"
   ]
  },
  {
   "cell_type": "code",
   "execution_count": 5,
   "id": "0d44561a-0894-4382-9065-27b2be2d2df5",
   "metadata": {
    "tags": []
   },
   "outputs": [],
   "source": [
    "df_r = pd.read_csv(routesf)"
   ]
  },
  {
   "cell_type": "code",
   "execution_count": 6,
   "id": "7581c8a5-c980-4156-83dd-7f935da1c4e7",
   "metadata": {
    "tags": []
   },
   "outputs": [],
   "source": [
    "df_s = pd.read_csv(stopsf)"
   ]
  },
  {
   "cell_type": "code",
   "execution_count": null,
   "id": "2b9bc5b0-0783-4ba0-8221-61dc5420e700",
   "metadata": {
    "tags": []
   },
   "outputs": [],
   "source": []
  },
  {
   "cell_type": "markdown",
   "id": "e996646b-efac-46a4-8629-38dc054f2fd0",
   "metadata": {},
   "source": [
    "## merge routes into trips"
   ]
  },
  {
   "cell_type": "code",
   "execution_count": 7,
   "id": "086060bf-4d15-4c7e-8010-68449fd67e55",
   "metadata": {
    "tags": []
   },
   "outputs": [],
   "source": [
    "df1 = pd.merge(df_t, df_r, on='route_id', how='left')"
   ]
  },
  {
   "cell_type": "code",
   "execution_count": 8,
   "id": "6c554d93-054e-4393-8829-34d138b8cdba",
   "metadata": {
    "tags": []
   },
   "outputs": [
    {
     "data": {
      "text/html": [
       "<div>\n",
       "<style scoped>\n",
       "    .dataframe tbody tr th:only-of-type {\n",
       "        vertical-align: middle;\n",
       "    }\n",
       "\n",
       "    .dataframe tbody tr th {\n",
       "        vertical-align: top;\n",
       "    }\n",
       "\n",
       "    .dataframe thead th {\n",
       "        text-align: right;\n",
       "    }\n",
       "</style>\n",
       "<table border=\"1\" class=\"dataframe\">\n",
       "  <thead>\n",
       "    <tr style=\"text-align: right;\">\n",
       "      <th></th>\n",
       "      <th>route_id</th>\n",
       "      <th>service_id</th>\n",
       "      <th>trip_id</th>\n",
       "      <th>trip_headsign</th>\n",
       "      <th>trip_short_name</th>\n",
       "      <th>direction_id</th>\n",
       "      <th>block_id</th>\n",
       "      <th>shape_id</th>\n",
       "      <th>wheelchair_accessible</th>\n",
       "      <th>bikes_allowed</th>\n",
       "      <th>...</th>\n",
       "      <th>duty_sequence_number</th>\n",
       "      <th>run_sequence_number</th>\n",
       "      <th>agency_id</th>\n",
       "      <th>route_short_name</th>\n",
       "      <th>route_long_name</th>\n",
       "      <th>route_desc</th>\n",
       "      <th>route_type</th>\n",
       "      <th>route_url</th>\n",
       "      <th>route_color</th>\n",
       "      <th>route_text_color</th>\n",
       "    </tr>\n",
       "  </thead>\n",
       "  <tbody>\n",
       "    <tr>\n",
       "      <th>20728</th>\n",
       "      <td>36_47</td>\n",
       "      <td>1</td>\n",
       "      <td>NORMAL_36_Ma Na Pa To Chinchwadgaon_Up-1810_0</td>\n",
       "      <td>Ma Na Pa To Chinchwadgaon</td>\n",
       "      <td>NaN</td>\n",
       "      <td>0</td>\n",
       "      <td>NaN</td>\n",
       "      <td>3306</td>\n",
       "      <td>NaN</td>\n",
       "      <td>NaN</td>\n",
       "      <td>...</td>\n",
       "      <td>11</td>\n",
       "      <td>3</td>\n",
       "      <td>PMPML</td>\n",
       "      <td>36</td>\n",
       "      <td>Ma.Na. Pa to Chinchwad gaon</td>\n",
       "      <td>NaN</td>\n",
       "      <td>3</td>\n",
       "      <td>NaN</td>\n",
       "      <td>NaN</td>\n",
       "      <td>NaN</td>\n",
       "    </tr>\n",
       "    <tr>\n",
       "      <th>6156</th>\n",
       "      <td>58</td>\n",
       "      <td>1</td>\n",
       "      <td>NORMAL_58_Shanipar To Gokhalenagar_Up-1030_0</td>\n",
       "      <td>Shanipar To Gokhalenagar</td>\n",
       "      <td>NaN</td>\n",
       "      <td>0</td>\n",
       "      <td>NaN</td>\n",
       "      <td>3581</td>\n",
       "      <td>NaN</td>\n",
       "      <td>NaN</td>\n",
       "      <td>...</td>\n",
       "      <td>9</td>\n",
       "      <td>9</td>\n",
       "      <td>PMPML</td>\n",
       "      <td>58</td>\n",
       "      <td>NaN</td>\n",
       "      <td>NaN</td>\n",
       "      <td>3</td>\n",
       "      <td>NaN</td>\n",
       "      <td>NaN</td>\n",
       "      <td>NaN</td>\n",
       "    </tr>\n",
       "    <tr>\n",
       "      <th>19493</th>\n",
       "      <td>7A</td>\n",
       "      <td>1</td>\n",
       "      <td>NORMAL_7A_Hadapsar Gadital To Uruli Kanchan_Up...</td>\n",
       "      <td>Hadapsar Gadital To Uruli Kanchan</td>\n",
       "      <td>NaN</td>\n",
       "      <td>0</td>\n",
       "      <td>NaN</td>\n",
       "      <td>4370</td>\n",
       "      <td>NaN</td>\n",
       "      <td>NaN</td>\n",
       "      <td>...</td>\n",
       "      <td>11</td>\n",
       "      <td>1</td>\n",
       "      <td>PMPML</td>\n",
       "      <td>7A</td>\n",
       "      <td>NaN</td>\n",
       "      <td>NaN</td>\n",
       "      <td>3</td>\n",
       "      <td>NaN</td>\n",
       "      <td>NaN</td>\n",
       "      <td>NaN</td>\n",
       "    </tr>\n",
       "    <tr>\n",
       "      <th>21675</th>\n",
       "      <td>26</td>\n",
       "      <td>1</td>\n",
       "      <td>NORMAL_26_Shivajinagar To Dhankawadi_Down-1140_0</td>\n",
       "      <td>Shivajinagar To Dhankawadi</td>\n",
       "      <td>NaN</td>\n",
       "      <td>0</td>\n",
       "      <td>NaN</td>\n",
       "      <td>2923</td>\n",
       "      <td>NaN</td>\n",
       "      <td>NaN</td>\n",
       "      <td>...</td>\n",
       "      <td>6</td>\n",
       "      <td>6</td>\n",
       "      <td>PMPML</td>\n",
       "      <td>26</td>\n",
       "      <td>NaN</td>\n",
       "      <td>NaN</td>\n",
       "      <td>3</td>\n",
       "      <td>NaN</td>\n",
       "      <td>NaN</td>\n",
       "      <td>NaN</td>\n",
       "    </tr>\n",
       "    <tr>\n",
       "      <th>1894</th>\n",
       "      <td>149</td>\n",
       "      <td>1</td>\n",
       "      <td>NORMAL_149_Shewalwadi To Bhakti Shakti_Up-1445_0</td>\n",
       "      <td>Shewalwadi To Bhakti Shakti</td>\n",
       "      <td>NaN</td>\n",
       "      <td>0</td>\n",
       "      <td>NaN</td>\n",
       "      <td>4629</td>\n",
       "      <td>NaN</td>\n",
       "      <td>NaN</td>\n",
       "      <td>...</td>\n",
       "      <td>5</td>\n",
       "      <td>1</td>\n",
       "      <td>PMPML</td>\n",
       "      <td>149</td>\n",
       "      <td>NaN</td>\n",
       "      <td>NaN</td>\n",
       "      <td>3</td>\n",
       "      <td>NaN</td>\n",
       "      <td>NaN</td>\n",
       "      <td>NaN</td>\n",
       "    </tr>\n",
       "  </tbody>\n",
       "</table>\n",
       "<p>5 rows × 21 columns</p>\n",
       "</div>"
      ],
      "text/plain": [
       "      route_id  service_id                                            trip_id  \\\n",
       "20728    36_47           1      NORMAL_36_Ma Na Pa To Chinchwadgaon_Up-1810_0   \n",
       "6156        58           1       NORMAL_58_Shanipar To Gokhalenagar_Up-1030_0   \n",
       "19493       7A           1  NORMAL_7A_Hadapsar Gadital To Uruli Kanchan_Up...   \n",
       "21675       26           1   NORMAL_26_Shivajinagar To Dhankawadi_Down-1140_0   \n",
       "1894       149           1   NORMAL_149_Shewalwadi To Bhakti Shakti_Up-1445_0   \n",
       "\n",
       "                           trip_headsign  trip_short_name  direction_id  \\\n",
       "20728          Ma Na Pa To Chinchwadgaon              NaN             0   \n",
       "6156            Shanipar To Gokhalenagar              NaN             0   \n",
       "19493  Hadapsar Gadital To Uruli Kanchan              NaN             0   \n",
       "21675         Shivajinagar To Dhankawadi              NaN             0   \n",
       "1894         Shewalwadi To Bhakti Shakti              NaN             0   \n",
       "\n",
       "       block_id  shape_id  wheelchair_accessible  bikes_allowed  ...  \\\n",
       "20728       NaN      3306                    NaN            NaN  ...   \n",
       "6156        NaN      3581                    NaN            NaN  ...   \n",
       "19493       NaN      4370                    NaN            NaN  ...   \n",
       "21675       NaN      2923                    NaN            NaN  ...   \n",
       "1894        NaN      4629                    NaN            NaN  ...   \n",
       "\n",
       "      duty_sequence_number  run_sequence_number  agency_id route_short_name  \\\n",
       "20728                   11                    3      PMPML               36   \n",
       "6156                     9                    9      PMPML               58   \n",
       "19493                   11                    1      PMPML               7A   \n",
       "21675                    6                    6      PMPML               26   \n",
       "1894                     5                    1      PMPML              149   \n",
       "\n",
       "                   route_long_name route_desc  route_type  route_url  \\\n",
       "20728  Ma.Na. Pa to Chinchwad gaon        NaN           3        NaN   \n",
       "6156                           NaN        NaN           3        NaN   \n",
       "19493                          NaN        NaN           3        NaN   \n",
       "21675                          NaN        NaN           3        NaN   \n",
       "1894                           NaN        NaN           3        NaN   \n",
       "\n",
       "       route_color  route_text_color  \n",
       "20728          NaN               NaN  \n",
       "6156           NaN               NaN  \n",
       "19493          NaN               NaN  \n",
       "21675          NaN               NaN  \n",
       "1894           NaN               NaN  \n",
       "\n",
       "[5 rows x 21 columns]"
      ]
     },
     "execution_count": 8,
     "metadata": {},
     "output_type": "execute_result"
    }
   ],
   "source": [
    "df1.sample(5)"
   ]
  },
  {
   "cell_type": "markdown",
   "id": "4f7fb2b6-16f2-4bfe-a6fe-d2e3ff095708",
   "metadata": {},
   "source": [
    "## merge trips+routes into stop_times"
   ]
  },
  {
   "cell_type": "code",
   "execution_count": 9,
   "id": "85425eee-585a-48a7-9371-29a2812874d5",
   "metadata": {
    "tags": []
   },
   "outputs": [],
   "source": [
    "df2 = pd.merge(df_st, df1, on='trip_id', how='left')"
   ]
  },
  {
   "cell_type": "code",
   "execution_count": 10,
   "id": "44ae9908-64d5-4b11-947e-20641c4985bc",
   "metadata": {
    "tags": []
   },
   "outputs": [
    {
     "data": {
      "text/html": [
       "<div>\n",
       "<style scoped>\n",
       "    .dataframe tbody tr th:only-of-type {\n",
       "        vertical-align: middle;\n",
       "    }\n",
       "\n",
       "    .dataframe tbody tr th {\n",
       "        vertical-align: top;\n",
       "    }\n",
       "\n",
       "    .dataframe thead th {\n",
       "        text-align: right;\n",
       "    }\n",
       "</style>\n",
       "<table border=\"1\" class=\"dataframe\">\n",
       "  <thead>\n",
       "    <tr style=\"text-align: right;\">\n",
       "      <th></th>\n",
       "      <th>trip_id</th>\n",
       "      <th>arrival_time</th>\n",
       "      <th>departure_time</th>\n",
       "      <th>stop_id</th>\n",
       "      <th>stop_sequence</th>\n",
       "      <th>stop_headsign</th>\n",
       "      <th>pickup_type</th>\n",
       "      <th>drop_off_type</th>\n",
       "      <th>shape_dist_traveled</th>\n",
       "      <th>timepoint</th>\n",
       "      <th>...</th>\n",
       "      <th>duty_sequence_number</th>\n",
       "      <th>run_sequence_number</th>\n",
       "      <th>agency_id</th>\n",
       "      <th>route_short_name</th>\n",
       "      <th>route_long_name</th>\n",
       "      <th>route_desc</th>\n",
       "      <th>route_type</th>\n",
       "      <th>route_url</th>\n",
       "      <th>route_color</th>\n",
       "      <th>route_text_color</th>\n",
       "    </tr>\n",
       "  </thead>\n",
       "  <tbody>\n",
       "    <tr>\n",
       "      <th>287146</th>\n",
       "      <td>NORMAL_185_Wagholi Kesnand To Hadapsar Gadital...</td>\n",
       "      <td>09:45:48</td>\n",
       "      <td>09:46:01</td>\n",
       "      <td>32489</td>\n",
       "      <td>20</td>\n",
       "      <td>NaN</td>\n",
       "      <td>NaN</td>\n",
       "      <td>NaN</td>\n",
       "      <td>NaN</td>\n",
       "      <td>NaN</td>\n",
       "      <td>...</td>\n",
       "      <td>6</td>\n",
       "      <td>6</td>\n",
       "      <td>PMPML</td>\n",
       "      <td>185</td>\n",
       "      <td>NaN</td>\n",
       "      <td>NaN</td>\n",
       "      <td>3</td>\n",
       "      <td>NaN</td>\n",
       "      <td>NaN</td>\n",
       "      <td>NaN</td>\n",
       "    </tr>\n",
       "    <tr>\n",
       "      <th>139864</th>\n",
       "      <td>NORMAL_VJR3_Kothrud Depot To Hadapsar Gadital_...</td>\n",
       "      <td>07:35:27</td>\n",
       "      <td>07:36:18</td>\n",
       "      <td>39030</td>\n",
       "      <td>5</td>\n",
       "      <td>NaN</td>\n",
       "      <td>NaN</td>\n",
       "      <td>NaN</td>\n",
       "      <td>NaN</td>\n",
       "      <td>NaN</td>\n",
       "      <td>...</td>\n",
       "      <td>2</td>\n",
       "      <td>2</td>\n",
       "      <td>PMPML</td>\n",
       "      <td>VJR3</td>\n",
       "      <td>NaN</td>\n",
       "      <td>NaN</td>\n",
       "      <td>3</td>\n",
       "      <td>NaN</td>\n",
       "      <td>NaN</td>\n",
       "      <td>NaN</td>\n",
       "    </tr>\n",
       "    <tr>\n",
       "      <th>271742</th>\n",
       "      <td>NORMAL_13_Shivajinagar To Upper Depot_Down-1235_0</td>\n",
       "      <td>13:06:17</td>\n",
       "      <td>13:06:30</td>\n",
       "      <td>39678</td>\n",
       "      <td>17</td>\n",
       "      <td>NaN</td>\n",
       "      <td>NaN</td>\n",
       "      <td>NaN</td>\n",
       "      <td>NaN</td>\n",
       "      <td>NaN</td>\n",
       "      <td>...</td>\n",
       "      <td>8</td>\n",
       "      <td>8</td>\n",
       "      <td>PMPML</td>\n",
       "      <td>13</td>\n",
       "      <td>NaN</td>\n",
       "      <td>NaN</td>\n",
       "      <td>3</td>\n",
       "      <td>NaN</td>\n",
       "      <td>NaN</td>\n",
       "      <td>NaN</td>\n",
       "    </tr>\n",
       "    <tr>\n",
       "      <th>159948</th>\n",
       "      <td>NORMAL_305B_Nigdi To Navlakh Umbre_Up-0800_0</td>\n",
       "      <td>08:06:00</td>\n",
       "      <td>08:06:07</td>\n",
       "      <td>36871</td>\n",
       "      <td>7</td>\n",
       "      <td>NaN</td>\n",
       "      <td>NaN</td>\n",
       "      <td>NaN</td>\n",
       "      <td>NaN</td>\n",
       "      <td>NaN</td>\n",
       "      <td>...</td>\n",
       "      <td>3</td>\n",
       "      <td>3</td>\n",
       "      <td>PMPML</td>\n",
       "      <td>305B</td>\n",
       "      <td>NaN</td>\n",
       "      <td>NaN</td>\n",
       "      <td>3</td>\n",
       "      <td>NaN</td>\n",
       "      <td>NaN</td>\n",
       "      <td>NaN</td>\n",
       "    </tr>\n",
       "    <tr>\n",
       "      <th>87850</th>\n",
       "      <td>NORMAL_233_ST Stand Paud To Marketyard_Down-10...</td>\n",
       "      <td>11:56:12</td>\n",
       "      <td>11:56:25</td>\n",
       "      <td>39564</td>\n",
       "      <td>63</td>\n",
       "      <td>NaN</td>\n",
       "      <td>NaN</td>\n",
       "      <td>NaN</td>\n",
       "      <td>NaN</td>\n",
       "      <td>NaN</td>\n",
       "      <td>...</td>\n",
       "      <td>3</td>\n",
       "      <td>3</td>\n",
       "      <td>PMPML</td>\n",
       "      <td>233</td>\n",
       "      <td>NaN</td>\n",
       "      <td>NaN</td>\n",
       "      <td>3</td>\n",
       "      <td>NaN</td>\n",
       "      <td>NaN</td>\n",
       "      <td>NaN</td>\n",
       "    </tr>\n",
       "  </tbody>\n",
       "</table>\n",
       "<p>5 rows × 30 columns</p>\n",
       "</div>"
      ],
      "text/plain": [
       "                                                  trip_id arrival_time  \\\n",
       "287146  NORMAL_185_Wagholi Kesnand To Hadapsar Gadital...     09:45:48   \n",
       "139864  NORMAL_VJR3_Kothrud Depot To Hadapsar Gadital_...     07:35:27   \n",
       "271742  NORMAL_13_Shivajinagar To Upper Depot_Down-1235_0     13:06:17   \n",
       "159948       NORMAL_305B_Nigdi To Navlakh Umbre_Up-0800_0     08:06:00   \n",
       "87850   NORMAL_233_ST Stand Paud To Marketyard_Down-10...     11:56:12   \n",
       "\n",
       "       departure_time  stop_id  stop_sequence  stop_headsign  pickup_type  \\\n",
       "287146       09:46:01    32489             20            NaN          NaN   \n",
       "139864       07:36:18    39030              5            NaN          NaN   \n",
       "271742       13:06:30    39678             17            NaN          NaN   \n",
       "159948       08:06:07    36871              7            NaN          NaN   \n",
       "87850        11:56:25    39564             63            NaN          NaN   \n",
       "\n",
       "        drop_off_type  shape_dist_traveled  timepoint  ...  \\\n",
       "287146            NaN                  NaN        NaN  ...   \n",
       "139864            NaN                  NaN        NaN  ...   \n",
       "271742            NaN                  NaN        NaN  ...   \n",
       "159948            NaN                  NaN        NaN  ...   \n",
       "87850             NaN                  NaN        NaN  ...   \n",
       "\n",
       "       duty_sequence_number  run_sequence_number agency_id  route_short_name  \\\n",
       "287146                    6                    6     PMPML               185   \n",
       "139864                    2                    2     PMPML              VJR3   \n",
       "271742                    8                    8     PMPML                13   \n",
       "159948                    3                    3     PMPML              305B   \n",
       "87850                     3                    3     PMPML               233   \n",
       "\n",
       "        route_long_name  route_desc  route_type  route_url  route_color  \\\n",
       "287146              NaN         NaN           3        NaN          NaN   \n",
       "139864              NaN         NaN           3        NaN          NaN   \n",
       "271742              NaN         NaN           3        NaN          NaN   \n",
       "159948              NaN         NaN           3        NaN          NaN   \n",
       "87850               NaN         NaN           3        NaN          NaN   \n",
       "\n",
       "       route_text_color  \n",
       "287146              NaN  \n",
       "139864              NaN  \n",
       "271742              NaN  \n",
       "159948              NaN  \n",
       "87850               NaN  \n",
       "\n",
       "[5 rows x 30 columns]"
      ]
     },
     "execution_count": 10,
     "metadata": {},
     "output_type": "execute_result"
    }
   ],
   "source": [
    "df2.sample(5)"
   ]
  },
  {
   "cell_type": "markdown",
   "id": "768c3635-a050-4d2e-9a4f-e1eae2ded17e",
   "metadata": {},
   "source": [
    "## merge stops into stop_times"
   ]
  },
  {
   "cell_type": "code",
   "execution_count": 11,
   "id": "997defd5-8d90-42de-9d7e-c013bbe2106e",
   "metadata": {
    "tags": []
   },
   "outputs": [],
   "source": [
    "df3 = pd.merge(df2, df_s, on='stop_id', how='left')"
   ]
  },
  {
   "cell_type": "code",
   "execution_count": 12,
   "id": "f76bb160-351f-4768-80ed-67fa662f9fae",
   "metadata": {
    "tags": []
   },
   "outputs": [
    {
     "data": {
      "text/html": [
       "<div>\n",
       "<style scoped>\n",
       "    .dataframe tbody tr th:only-of-type {\n",
       "        vertical-align: middle;\n",
       "    }\n",
       "\n",
       "    .dataframe tbody tr th {\n",
       "        vertical-align: top;\n",
       "    }\n",
       "\n",
       "    .dataframe thead th {\n",
       "        text-align: right;\n",
       "    }\n",
       "</style>\n",
       "<table border=\"1\" class=\"dataframe\">\n",
       "  <thead>\n",
       "    <tr style=\"text-align: right;\">\n",
       "      <th></th>\n",
       "      <th>trip_id</th>\n",
       "      <th>arrival_time</th>\n",
       "      <th>departure_time</th>\n",
       "      <th>stop_id</th>\n",
       "      <th>stop_sequence</th>\n",
       "      <th>stop_headsign</th>\n",
       "      <th>pickup_type</th>\n",
       "      <th>drop_off_type</th>\n",
       "      <th>shape_dist_traveled</th>\n",
       "      <th>timepoint</th>\n",
       "      <th>...</th>\n",
       "      <th>stop_name</th>\n",
       "      <th>stop_desc</th>\n",
       "      <th>stop_lat</th>\n",
       "      <th>stop_lon</th>\n",
       "      <th>zone_id</th>\n",
       "      <th>stop_url</th>\n",
       "      <th>location_type</th>\n",
       "      <th>parent_station</th>\n",
       "      <th>stop_timezone</th>\n",
       "      <th>wheelchair_boarding</th>\n",
       "    </tr>\n",
       "  </thead>\n",
       "  <tbody>\n",
       "    <tr>\n",
       "      <th>111220</th>\n",
       "      <td>NORMAL_82_NDA 10 No Gate Bus Stand To MaNaPa T...</td>\n",
       "      <td>16:05:25</td>\n",
       "      <td>16:05:26</td>\n",
       "      <td>31544</td>\n",
       "      <td>59</td>\n",
       "      <td>NaN</td>\n",
       "      <td>NaN</td>\n",
       "      <td>NaN</td>\n",
       "      <td>NaN</td>\n",
       "      <td>NaN</td>\n",
       "      <td>...</td>\n",
       "      <td>Dudhanevasti</td>\n",
       "      <td>NaN</td>\n",
       "      <td>18.47127</td>\n",
       "      <td>73.79028</td>\n",
       "      <td>NaN</td>\n",
       "      <td>NaN</td>\n",
       "      <td>NaN</td>\n",
       "      <td>NaN</td>\n",
       "      <td>NaN</td>\n",
       "      <td>NaN</td>\n",
       "    </tr>\n",
       "    <tr>\n",
       "      <th>443330</th>\n",
       "      <td>NORMAL_237_Warje Malwadi To Kharadi gaon_UP-07...</td>\n",
       "      <td>07:48:26</td>\n",
       "      <td>07:48:44</td>\n",
       "      <td>1239</td>\n",
       "      <td>9</td>\n",
       "      <td>NaN</td>\n",
       "      <td>NaN</td>\n",
       "      <td>NaN</td>\n",
       "      <td>NaN</td>\n",
       "      <td>NaN</td>\n",
       "      <td>...</td>\n",
       "      <td>Gandhi Bhavan Phata</td>\n",
       "      <td>NaN</td>\n",
       "      <td>18.49581</td>\n",
       "      <td>73.81329</td>\n",
       "      <td>NaN</td>\n",
       "      <td>NaN</td>\n",
       "      <td>NaN</td>\n",
       "      <td>NaN</td>\n",
       "      <td>NaN</td>\n",
       "      <td>NaN</td>\n",
       "    </tr>\n",
       "    <tr>\n",
       "      <th>710297</th>\n",
       "      <td>NORMAL_298_Katraj To Chinchwad Gaon_Up-1835_0</td>\n",
       "      <td>19:37:27</td>\n",
       "      <td>19:37:55</td>\n",
       "      <td>38792</td>\n",
       "      <td>36</td>\n",
       "      <td>NaN</td>\n",
       "      <td>NaN</td>\n",
       "      <td>NaN</td>\n",
       "      <td>NaN</td>\n",
       "      <td>NaN</td>\n",
       "      <td>...</td>\n",
       "      <td>Body Gate</td>\n",
       "      <td>NaN</td>\n",
       "      <td>18.56311</td>\n",
       "      <td>73.81312</td>\n",
       "      <td>NaN</td>\n",
       "      <td>NaN</td>\n",
       "      <td>NaN</td>\n",
       "      <td>NaN</td>\n",
       "      <td>NaN</td>\n",
       "      <td>NaN</td>\n",
       "    </tr>\n",
       "    <tr>\n",
       "      <th>390531</th>\n",
       "      <td>NORMAL_100_Hinjawadi Maan Phase 3 to Ma Na Pa_...</td>\n",
       "      <td>15:34:58</td>\n",
       "      <td>15:35:31</td>\n",
       "      <td>39288</td>\n",
       "      <td>32</td>\n",
       "      <td>NaN</td>\n",
       "      <td>NaN</td>\n",
       "      <td>NaN</td>\n",
       "      <td>NaN</td>\n",
       "      <td>NaN</td>\n",
       "      <td>...</td>\n",
       "      <td>Pune Vidyapeeth</td>\n",
       "      <td>NaN</td>\n",
       "      <td>18.54116</td>\n",
       "      <td>73.83059</td>\n",
       "      <td>NaN</td>\n",
       "      <td>NaN</td>\n",
       "      <td>NaN</td>\n",
       "      <td>NaN</td>\n",
       "      <td>NaN</td>\n",
       "      <td>NaN</td>\n",
       "    </tr>\n",
       "    <tr>\n",
       "      <th>137038</th>\n",
       "      <td>NORMAL_142_Ghotawade Phata To Pune Station_Dow...</td>\n",
       "      <td>18:01:32</td>\n",
       "      <td>18:03:31</td>\n",
       "      <td>34747</td>\n",
       "      <td>38</td>\n",
       "      <td>NaN</td>\n",
       "      <td>NaN</td>\n",
       "      <td>NaN</td>\n",
       "      <td>NaN</td>\n",
       "      <td>NaN</td>\n",
       "      <td>...</td>\n",
       "      <td>NCL Gate</td>\n",
       "      <td>NaN</td>\n",
       "      <td>18.53973</td>\n",
       "      <td>73.81282</td>\n",
       "      <td>NaN</td>\n",
       "      <td>NaN</td>\n",
       "      <td>NaN</td>\n",
       "      <td>NaN</td>\n",
       "      <td>NaN</td>\n",
       "      <td>NaN</td>\n",
       "    </tr>\n",
       "  </tbody>\n",
       "</table>\n",
       "<p>5 rows × 41 columns</p>\n",
       "</div>"
      ],
      "text/plain": [
       "                                                  trip_id arrival_time  \\\n",
       "111220  NORMAL_82_NDA 10 No Gate Bus Stand To MaNaPa T...     16:05:25   \n",
       "443330  NORMAL_237_Warje Malwadi To Kharadi gaon_UP-07...     07:48:26   \n",
       "710297      NORMAL_298_Katraj To Chinchwad Gaon_Up-1835_0     19:37:27   \n",
       "390531  NORMAL_100_Hinjawadi Maan Phase 3 to Ma Na Pa_...     15:34:58   \n",
       "137038  NORMAL_142_Ghotawade Phata To Pune Station_Dow...     18:01:32   \n",
       "\n",
       "       departure_time  stop_id  stop_sequence  stop_headsign  pickup_type  \\\n",
       "111220       16:05:26    31544             59            NaN          NaN   \n",
       "443330       07:48:44     1239              9            NaN          NaN   \n",
       "710297       19:37:55    38792             36            NaN          NaN   \n",
       "390531       15:35:31    39288             32            NaN          NaN   \n",
       "137038       18:03:31    34747             38            NaN          NaN   \n",
       "\n",
       "        drop_off_type  shape_dist_traveled  timepoint  ...  \\\n",
       "111220            NaN                  NaN        NaN  ...   \n",
       "443330            NaN                  NaN        NaN  ...   \n",
       "710297            NaN                  NaN        NaN  ...   \n",
       "390531            NaN                  NaN        NaN  ...   \n",
       "137038            NaN                  NaN        NaN  ...   \n",
       "\n",
       "                  stop_name  stop_desc  stop_lat  stop_lon  zone_id  stop_url  \\\n",
       "111220         Dudhanevasti        NaN  18.47127  73.79028      NaN       NaN   \n",
       "443330  Gandhi Bhavan Phata        NaN  18.49581  73.81329      NaN       NaN   \n",
       "710297            Body Gate        NaN  18.56311  73.81312      NaN       NaN   \n",
       "390531      Pune Vidyapeeth        NaN  18.54116  73.83059      NaN       NaN   \n",
       "137038             NCL Gate        NaN  18.53973  73.81282      NaN       NaN   \n",
       "\n",
       "        location_type  parent_station  stop_timezone wheelchair_boarding  \n",
       "111220            NaN             NaN            NaN                 NaN  \n",
       "443330            NaN             NaN            NaN                 NaN  \n",
       "710297            NaN             NaN            NaN                 NaN  \n",
       "390531            NaN             NaN            NaN                 NaN  \n",
       "137038            NaN             NaN            NaN                 NaN  \n",
       "\n",
       "[5 rows x 41 columns]"
      ]
     },
     "execution_count": 12,
     "metadata": {},
     "output_type": "execute_result"
    }
   ],
   "source": [
    "df3.sample(5)"
   ]
  },
  {
   "cell_type": "code",
   "execution_count": 13,
   "id": "9e24534d-fa68-44c3-a559-ec1470544923",
   "metadata": {
    "tags": []
   },
   "outputs": [
    {
     "data": {
      "text/plain": [
       "751852"
      ]
     },
     "execution_count": 13,
     "metadata": {},
     "output_type": "execute_result"
    }
   ],
   "source": [
    "len(df3)"
   ]
  },
  {
   "cell_type": "code",
   "execution_count": 14,
   "id": "1277db97-5231-43e2-b3c5-14ba3e4f6827",
   "metadata": {
    "tags": []
   },
   "outputs": [
    {
     "data": {
      "text/plain": [
       "Index(['trip_id', 'arrival_time', 'departure_time', 'stop_id', 'stop_sequence',\n",
       "       'stop_headsign', 'pickup_type', 'drop_off_type', 'shape_dist_traveled',\n",
       "       'timepoint', 'route_id', 'service_id', 'trip_headsign',\n",
       "       'trip_short_name', 'direction_id', 'block_id', 'shape_id',\n",
       "       'wheelchair_accessible', 'bikes_allowed', 'duty',\n",
       "       'duty_sequence_number', 'run_sequence_number', 'agency_id',\n",
       "       'route_short_name', 'route_long_name', 'route_desc', 'route_type',\n",
       "       'route_url', 'route_color', 'route_text_color', 'stop_code',\n",
       "       'stop_name', 'stop_desc', 'stop_lat', 'stop_lon', 'zone_id', 'stop_url',\n",
       "       'location_type', 'parent_station', 'stop_timezone',\n",
       "       'wheelchair_boarding'],\n",
       "      dtype='object')"
      ]
     },
     "execution_count": 14,
     "metadata": {},
     "output_type": "execute_result"
    }
   ],
   "source": [
    "df3.columns"
   ]
  },
  {
   "cell_type": "markdown",
   "id": "66bd20ad-2c66-46bb-b567-c5bc475f054f",
   "metadata": {},
   "source": [
    "## export : as flat CSV, and in parquet format which is much smaller in size"
   ]
  },
  {
   "cell_type": "code",
   "execution_count": 15,
   "id": "71c46c0d-43f3-4b25-82a3-1c13f9a64941",
   "metadata": {
    "tags": []
   },
   "outputs": [],
   "source": [
    "df3.to_csv('gtfs-pune-july2019-merged.csv',index=False)"
   ]
  },
  {
   "cell_type": "code",
   "execution_count": 16,
   "id": "c79e860f-3dc4-4edd-a8d3-11420e277670",
   "metadata": {
    "tags": []
   },
   "outputs": [],
   "source": [
    "df3.to_parquet('gtfs-pune-july2019-merged.pqt',index=False, compression='brotli')"
   ]
  },
  {
   "cell_type": "code",
   "execution_count": null,
   "id": "3508addd-3eda-42de-88b1-2636fd0cac92",
   "metadata": {},
   "outputs": [],
   "source": []
  },
  {
   "cell_type": "markdown",
   "id": "c7c5a434-ed66-47cf-ad5b-8fd12d694a96",
   "metadata": {},
   "source": [
    "## aggregating data by stops"
   ]
  },
  {
   "cell_type": "code",
   "execution_count": 17,
   "id": "932e62c7-2341-4f67-8b9e-11f05e549e75",
   "metadata": {
    "tags": []
   },
   "outputs": [
    {
     "data": {
      "text/plain": [
       "array(['42', '366', '367', '315', '60', '186', '55', '87', '114', '87F',\n",
       "       '87C', '87D', '217', '43', '367C', '118', '19', '19A', '167',\n",
       "       '152', '20', '29', '119', '22A', '22', '115P', '333', '2', '203',\n",
       "       '165', '94', '233', '163', '64', '277A', '82', '174', '149',\n",
       "       'VJR3', '358', '84', '362A', '126C', '313', '368', '122', '57',\n",
       "       '192', '88', '304', '338', '76', '362', '301', '322', '70', '70C',\n",
       "       '109', '155', '143', '58', '186A', '24', '125', '311', '97', '376',\n",
       "       '21', '13', '363', '158', '11', '126', '126D', '100', '139', '185',\n",
       "       '336', '103', '2I', '103M', 'VJR4', '2L', '214', '2H', '205',\n",
       "       'VJR5', '14', '303', '133', '148', '309', '47A', '208', '298',\n",
       "       '33', '117A', '351', '78', '162', '374', '111', '78A', 'VJR1',\n",
       "       '129', '302', '302A(New)', '302D', '302B', '335A', '335', '203P',\n",
       "       '180', '323B', '355', '7A', '308', '312', '291', '36', '204',\n",
       "       '256', '126B', '380', '128', '277', '140', '227', '320', '327',\n",
       "       '5', '174A', '50B', '50', '337', '332', '170', '142', '63', '213',\n",
       "       '313A', '144', '305B', '305', '236', '326', '57A', '293', '71',\n",
       "       '136', '122B', '304A', '117', '359', '379', 'HA', '340', '372',\n",
       "       '317', '118B', '56', '2D', '66', '328', '601', '283', '28', '195',\n",
       "       '200A', '200', '20B', '307', '330', '334', '59', '37', '69', '120',\n",
       "       '363A', '300', '401', '501', '801', '901', '310', '323', '12',\n",
       "       '159', '53', '193', '183', '51', '329', 'AC2', '276', '365', '10',\n",
       "       '132', '49', '145A', '145', 'VJR2', '146', '361', '257', '2J',\n",
       "       '331', '148A', '326A', '130', '130A', '17A', '17', '143A', '13A',\n",
       "       '19D', '354', '30', '84B', '198', '61', '341', '345', '144D', '67',\n",
       "       '3', '191', '201', '46', '164', '314', '107', '117C', '234', '161',\n",
       "       '77', '113', '91', '216', '216C', '216A', '299', '47', '89', '90',\n",
       "       '93', '154', '151', '169', '348', 'VJR6', '81', '150', '21A',\n",
       "       '21B', '343', '38', '237', '252', '166', '181', '181C', '295',\n",
       "       '158B', '158A(NEW)', '235', '324', '292A', '292', '292B', '293A',\n",
       "       '292C', '105', '108', '253', '168', '80', '31', '175', '177', '8',\n",
       "       '377', '188', '190', '172', '197', '202', '147', '187', '215',\n",
       "       '230', '264', '281', '371', '282', '284', '279A', '279', '117B',\n",
       "       '294', '297', '85A', '85', '216B', '327A', '316', '319', '194',\n",
       "       '325', '331D', '331C', '339', '196', '344', '347', '369', '131',\n",
       "       '127', '207', 'RATRANI9', '306', 'RATRANI7', '52A', '52', '52B',\n",
       "       '346', '106', '189', '275', '206', '350', '378', '302C', '255',\n",
       "       '39', '41', '104', '110', '121', '123', '170B', '179', '327C',\n",
       "       '296A', '296', '68S', '9', '360', '116', '342', 'RATRANI3',\n",
       "       'RATRANI4', '101', '102', '318', '350B', '301A', 'RATRANI1',\n",
       "       'RATRANI2', '357', '135', '27', '26', '209'], dtype=object)"
      ]
     },
     "execution_count": 17,
     "metadata": {},
     "output_type": "execute_result"
    }
   ],
   "source": [
    "df1['route_short_name'].unique()"
   ]
  },
  {
   "cell_type": "code",
   "execution_count": 18,
   "id": "ff929b78-324d-4e84-9a06-c434ef856c31",
   "metadata": {
    "tags": []
   },
   "outputs": [],
   "source": [
    "def grouper1(x):\n",
    "    r = {}\n",
    "    r['num'] = len(x)\n",
    "    r['num_routes'] = len(x['route_id'].unique())\n",
    "    r['num_trips'] = len(x['trip_id'].unique())\n",
    "    r['routes_list'] = ', '.join(x['route_short_name'].unique())\n",
    "    return pd.Series(r)"
   ]
  },
  {
   "cell_type": "code",
   "execution_count": 19,
   "id": "84730282-50c1-4973-b403-ff4c08cecac9",
   "metadata": {
    "tags": []
   },
   "outputs": [],
   "source": [
    "df4 = df3.groupby(['stop_id','stop_name','stop_lat','stop_lon']).apply(grouper1, include_groups=False).reset_index(drop=False)"
   ]
  },
  {
   "cell_type": "code",
   "execution_count": 20,
   "id": "38e1ce03-c53f-4ac0-b01e-1b1132f00804",
   "metadata": {
    "tags": []
   },
   "outputs": [
    {
     "data": {
      "text/html": [
       "<div>\n",
       "<style scoped>\n",
       "    .dataframe tbody tr th:only-of-type {\n",
       "        vertical-align: middle;\n",
       "    }\n",
       "\n",
       "    .dataframe tbody tr th {\n",
       "        vertical-align: top;\n",
       "    }\n",
       "\n",
       "    .dataframe thead th {\n",
       "        text-align: right;\n",
       "    }\n",
       "</style>\n",
       "<table border=\"1\" class=\"dataframe\">\n",
       "  <thead>\n",
       "    <tr style=\"text-align: right;\">\n",
       "      <th></th>\n",
       "      <th>stop_id</th>\n",
       "      <th>stop_name</th>\n",
       "      <th>stop_lat</th>\n",
       "      <th>stop_lon</th>\n",
       "      <th>num</th>\n",
       "      <th>num_routes</th>\n",
       "      <th>num_trips</th>\n",
       "      <th>routes_list</th>\n",
       "    </tr>\n",
       "  </thead>\n",
       "  <tbody>\n",
       "    <tr>\n",
       "      <th>4589</th>\n",
       "      <td>39202</td>\n",
       "      <td>Pushp Mangal</td>\n",
       "      <td>18.48646</td>\n",
       "      <td>73.85812</td>\n",
       "      <td>275</td>\n",
       "      <td>9</td>\n",
       "      <td>275</td>\n",
       "      <td>22A, 22, 13, 28, 12, 13A, 253, 41, 68S</td>\n",
       "    </tr>\n",
       "    <tr>\n",
       "      <th>1508</th>\n",
       "      <td>32835</td>\n",
       "      <td>Divegaon</td>\n",
       "      <td>18.38319</td>\n",
       "      <td>74.01554</td>\n",
       "      <td>101</td>\n",
       "      <td>1</td>\n",
       "      <td>101</td>\n",
       "      <td>207</td>\n",
       "    </tr>\n",
       "    <tr>\n",
       "      <th>2238</th>\n",
       "      <td>33883</td>\n",
       "      <td>JCB</td>\n",
       "      <td>18.77665</td>\n",
       "      <td>73.69219</td>\n",
       "      <td>8</td>\n",
       "      <td>1</td>\n",
       "      <td>8</td>\n",
       "      <td>305B</td>\n",
       "    </tr>\n",
       "    <tr>\n",
       "      <th>2965</th>\n",
       "      <td>34910</td>\n",
       "      <td>Radha Hotel</td>\n",
       "      <td>18.56988</td>\n",
       "      <td>73.76414</td>\n",
       "      <td>5</td>\n",
       "      <td>1</td>\n",
       "      <td>5</td>\n",
       "      <td>320</td>\n",
       "    </tr>\n",
       "    <tr>\n",
       "      <th>4752</th>\n",
       "      <td>39369</td>\n",
       "      <td>Bahirat Wadi</td>\n",
       "      <td>18.53576</td>\n",
       "      <td>73.83008</td>\n",
       "      <td>86</td>\n",
       "      <td>5</td>\n",
       "      <td>86</td>\n",
       "      <td>277, 322, 276, 216B, 41</td>\n",
       "    </tr>\n",
       "  </tbody>\n",
       "</table>\n",
       "</div>"
      ],
      "text/plain": [
       "      stop_id     stop_name  stop_lat  stop_lon  num  num_routes  num_trips  \\\n",
       "4589    39202  Pushp Mangal  18.48646  73.85812  275           9        275   \n",
       "1508    32835      Divegaon  18.38319  74.01554  101           1        101   \n",
       "2238    33883           JCB  18.77665  73.69219    8           1          8   \n",
       "2965    34910   Radha Hotel  18.56988  73.76414    5           1          5   \n",
       "4752    39369  Bahirat Wadi  18.53576  73.83008   86           5         86   \n",
       "\n",
       "                                 routes_list  \n",
       "4589  22A, 22, 13, 28, 12, 13A, 253, 41, 68S  \n",
       "1508                                     207  \n",
       "2238                                    305B  \n",
       "2965                                     320  \n",
       "4752                 277, 322, 276, 216B, 41  "
      ]
     },
     "execution_count": 20,
     "metadata": {},
     "output_type": "execute_result"
    }
   ],
   "source": [
    "df4.sample(5)"
   ]
  },
  {
   "cell_type": "code",
   "execution_count": 21,
   "id": "7b2a3ae8-0b07-4f0f-9171-0c3f46c98558",
   "metadata": {
    "tags": []
   },
   "outputs": [],
   "source": [
    "df4.to_csv('stops-aggregate-1.csv',index=False)"
   ]
  },
  {
   "cell_type": "code",
   "execution_count": null,
   "id": "f8d2d409-ffb1-44f8-9817-9ea9c4b577fa",
   "metadata": {},
   "outputs": [],
   "source": []
  },
  {
   "cell_type": "markdown",
   "id": "67e2dc61-c291-45ff-b789-67865c4cc5fb",
   "metadata": {},
   "source": [
    "## Aggregate by stops + departure hour, to get hourly frequency stats"
   ]
  },
  {
   "cell_type": "code",
   "execution_count": 22,
   "id": "a34d8e62-1709-4c4c-b5fe-21c50e9dc7db",
   "metadata": {
    "tags": []
   },
   "outputs": [
    {
     "data": {
      "text/plain": [
       "393743    10\n",
       "351802    16\n",
       "75455     06\n",
       "352896    14\n",
       "568677    16\n",
       "Name: departure_hr, dtype: object"
      ]
     },
     "execution_count": 22,
     "metadata": {},
     "output_type": "execute_result"
    }
   ],
   "source": [
    "df3['departure_hr'] = df3['departure_time'].str[:2]\n",
    "df3['departure_hr'].sample(5)"
   ]
  },
  {
   "cell_type": "code",
   "execution_count": 23,
   "id": "ba45d082-d2bb-4749-b31c-da8b2eed73b5",
   "metadata": {
    "tags": []
   },
   "outputs": [],
   "source": [
    "df5 = df3.groupby(['stop_id','stop_name','stop_lat','stop_lon','departure_hr']).apply(grouper1, include_groups=False).reset_index(drop=False)"
   ]
  },
  {
   "cell_type": "code",
   "execution_count": 24,
   "id": "4994d502-4e66-4158-8962-03eac7c2b31b",
   "metadata": {
    "tags": []
   },
   "outputs": [
    {
     "data": {
      "text/html": [
       "<div>\n",
       "<style scoped>\n",
       "    .dataframe tbody tr th:only-of-type {\n",
       "        vertical-align: middle;\n",
       "    }\n",
       "\n",
       "    .dataframe tbody tr th {\n",
       "        vertical-align: top;\n",
       "    }\n",
       "\n",
       "    .dataframe thead th {\n",
       "        text-align: right;\n",
       "    }\n",
       "</style>\n",
       "<table border=\"1\" class=\"dataframe\">\n",
       "  <thead>\n",
       "    <tr style=\"text-align: right;\">\n",
       "      <th></th>\n",
       "      <th>stop_id</th>\n",
       "      <th>stop_name</th>\n",
       "      <th>stop_lat</th>\n",
       "      <th>stop_lon</th>\n",
       "      <th>departure_hr</th>\n",
       "      <th>num</th>\n",
       "      <th>num_routes</th>\n",
       "      <th>num_trips</th>\n",
       "      <th>routes_list</th>\n",
       "    </tr>\n",
       "  </thead>\n",
       "  <tbody>\n",
       "    <tr>\n",
       "      <th>5623</th>\n",
       "      <td>3616</td>\n",
       "      <td>Pan Mala</td>\n",
       "      <td>18.50051</td>\n",
       "      <td>73.84479</td>\n",
       "      <td>18</td>\n",
       "      <td>2</td>\n",
       "      <td>1</td>\n",
       "      <td>2</td>\n",
       "      <td>64</td>\n",
       "    </tr>\n",
       "    <tr>\n",
       "      <th>8300</th>\n",
       "      <td>31428</td>\n",
       "      <td>Ganga Ocean Park</td>\n",
       "      <td>18.45495</td>\n",
       "      <td>73.86583</td>\n",
       "      <td>13</td>\n",
       "      <td>1</td>\n",
       "      <td>1</td>\n",
       "      <td>1</td>\n",
       "      <td>28</td>\n",
       "    </tr>\n",
       "    <tr>\n",
       "      <th>30215</th>\n",
       "      <td>33667</td>\n",
       "      <td>Shubham Mangal Karyalay</td>\n",
       "      <td>18.59593</td>\n",
       "      <td>73.93140</td>\n",
       "      <td>21</td>\n",
       "      <td>1</td>\n",
       "      <td>1</td>\n",
       "      <td>1</td>\n",
       "      <td>158A(NEW)</td>\n",
       "    </tr>\n",
       "    <tr>\n",
       "      <th>16286</th>\n",
       "      <td>32233</td>\n",
       "      <td>Aditya Garden City</td>\n",
       "      <td>18.49062</td>\n",
       "      <td>73.79038</td>\n",
       "      <td>19</td>\n",
       "      <td>2</td>\n",
       "      <td>1</td>\n",
       "      <td>2</td>\n",
       "      <td>80</td>\n",
       "    </tr>\n",
       "    <tr>\n",
       "      <th>79528</th>\n",
       "      <td>40118</td>\n",
       "      <td>Swapnaganga Nagr</td>\n",
       "      <td>18.44323</td>\n",
       "      <td>73.91048</td>\n",
       "      <td>06</td>\n",
       "      <td>2</td>\n",
       "      <td>1</td>\n",
       "      <td>2</td>\n",
       "      <td>192</td>\n",
       "    </tr>\n",
       "  </tbody>\n",
       "</table>\n",
       "</div>"
      ],
      "text/plain": [
       "       stop_id                stop_name  stop_lat  stop_lon departure_hr  num  \\\n",
       "5623      3616                 Pan Mala  18.50051  73.84479           18    2   \n",
       "8300     31428         Ganga Ocean Park  18.45495  73.86583           13    1   \n",
       "30215    33667  Shubham Mangal Karyalay  18.59593  73.93140           21    1   \n",
       "16286    32233       Aditya Garden City  18.49062  73.79038           19    2   \n",
       "79528    40118         Swapnaganga Nagr  18.44323  73.91048           06    2   \n",
       "\n",
       "       num_routes  num_trips routes_list  \n",
       "5623            1          2          64  \n",
       "8300            1          1          28  \n",
       "30215           1          1   158A(NEW)  \n",
       "16286           1          2          80  \n",
       "79528           1          2         192  "
      ]
     },
     "execution_count": 24,
     "metadata": {},
     "output_type": "execute_result"
    }
   ],
   "source": [
    "df5.sample(5)"
   ]
  },
  {
   "cell_type": "code",
   "execution_count": 25,
   "id": "8202eebd-585e-4de4-b566-5e41243ccf3f",
   "metadata": {
    "tags": []
   },
   "outputs": [],
   "source": [
    "df5.to_csv('stops-hourly-aggregate-2.csv',index=False)"
   ]
  },
  {
   "cell_type": "code",
   "execution_count": null,
   "id": "99574d2f-f215-4f69-b1ee-a90fb6abd674",
   "metadata": {},
   "outputs": [],
   "source": []
  },
  {
   "cell_type": "markdown",
   "id": "91e75e27-fc13-412f-b4c1-d6fdb501d310",
   "metadata": {},
   "source": [
    "## Make route lines"
   ]
  },
  {
   "cell_type": "code",
   "execution_count": 26,
   "id": "ebaabc76-aed4-489b-8a4a-99ff521a1c8f",
   "metadata": {
    "tags": []
   },
   "outputs": [],
   "source": [
    "def makeline(x):\n",
    "    r = {}\n",
    "    point_collector = []\n",
    "    r['first_stop'] = x['stop_name'].values[0]\n",
    "    r['last_stop'] = x['stop_name'].values[-1]\n",
    "    r['num_stops'] = len(x)\n",
    "    for row in x.to_dict(orient='records'):\n",
    "        point_collector.append(f\"{row['stop_lon']} {row['stop_lat']}\")\n",
    "    r['geometry'] = f\"LINESTRING ({','.join(point_collector)})\"\n",
    "    return pd.Series(r)\n"
   ]
  },
  {
   "cell_type": "code",
   "execution_count": 27,
   "id": "251a8cf7-65e3-416b-9693-41196da4f33a",
   "metadata": {
    "tags": []
   },
   "outputs": [],
   "source": [
    "df6 = df3.groupby(['route_short_name','trip_id','direction_id']).apply(makeline, include_groups=False).reset_index(drop=False)"
   ]
  },
  {
   "cell_type": "code",
   "execution_count": 28,
   "id": "d5671988-3158-4050-a70e-880272b56564",
   "metadata": {
    "tags": []
   },
   "outputs": [
    {
     "data": {
      "text/html": [
       "<div>\n",
       "<style scoped>\n",
       "    .dataframe tbody tr th:only-of-type {\n",
       "        vertical-align: middle;\n",
       "    }\n",
       "\n",
       "    .dataframe tbody tr th {\n",
       "        vertical-align: top;\n",
       "    }\n",
       "\n",
       "    .dataframe thead th {\n",
       "        text-align: right;\n",
       "    }\n",
       "</style>\n",
       "<table border=\"1\" class=\"dataframe\">\n",
       "  <thead>\n",
       "    <tr style=\"text-align: right;\">\n",
       "      <th></th>\n",
       "      <th>route_short_name</th>\n",
       "      <th>trip_id</th>\n",
       "      <th>direction_id</th>\n",
       "      <th>first_stop</th>\n",
       "      <th>last_stop</th>\n",
       "      <th>num_stops</th>\n",
       "      <th>geometry</th>\n",
       "    </tr>\n",
       "  </thead>\n",
       "  <tbody>\n",
       "    <tr>\n",
       "      <th>20818</th>\n",
       "      <td>90</td>\n",
       "      <td>NORMAL_90_Swargate To Pandavnagar_Up-1910_0</td>\n",
       "      <td>0</td>\n",
       "      <td>Swargate</td>\n",
       "      <td>Pandavnagar Senapati Bapat Road</td>\n",
       "      <td>22</td>\n",
       "      <td>LINESTRING (73.85817 18.49928,73.85369 18.5031...</td>\n",
       "    </tr>\n",
       "    <tr>\n",
       "      <th>15000</th>\n",
       "      <td>33</td>\n",
       "      <td>NORMAL_33_Taljai Pathar To Na Ta Wadi_Up-0920_0</td>\n",
       "      <td>0</td>\n",
       "      <td>Taljai Pathar</td>\n",
       "      <td>Na Ta Wadi</td>\n",
       "      <td>27</td>\n",
       "      <td>LINESTRING (73.84694 18.46852,73.85113 18.4678...</td>\n",
       "    </tr>\n",
       "    <tr>\n",
       "      <th>14716</th>\n",
       "      <td>325</td>\n",
       "      <td>NORMAL_325_Pune Station To Masulkar Colony_Up-...</td>\n",
       "      <td>0</td>\n",
       "      <td>Pune Station Depot</td>\n",
       "      <td>Masulkar Colony</td>\n",
       "      <td>35</td>\n",
       "      <td>LINESTRING (73.87683 18.52652,73.87669 18.5256...</td>\n",
       "    </tr>\n",
       "    <tr>\n",
       "      <th>3792</th>\n",
       "      <td>140</td>\n",
       "      <td>NORMAL_140_Pune Station To Upper Depot_Down-17...</td>\n",
       "      <td>0</td>\n",
       "      <td>Pune Station</td>\n",
       "      <td>Upper Depot</td>\n",
       "      <td>28</td>\n",
       "      <td>LINESTRING (73.87304 18.52737,73.87669 18.5256...</td>\n",
       "    </tr>\n",
       "    <tr>\n",
       "      <th>14587</th>\n",
       "      <td>324</td>\n",
       "      <td>NORMAL_324_Bhosari To Hinjawadi Maan Phase 3_U...</td>\n",
       "      <td>0</td>\n",
       "      <td>Bhosari</td>\n",
       "      <td>Hinjawadi - Maan Phase 3</td>\n",
       "      <td>42</td>\n",
       "      <td>LINESTRING (73.85127 18.62462,73.85034 18.6188...</td>\n",
       "    </tr>\n",
       "  </tbody>\n",
       "</table>\n",
       "</div>"
      ],
      "text/plain": [
       "      route_short_name                                            trip_id  \\\n",
       "20818               90        NORMAL_90_Swargate To Pandavnagar_Up-1910_0   \n",
       "15000               33    NORMAL_33_Taljai Pathar To Na Ta Wadi_Up-0920_0   \n",
       "14716              325  NORMAL_325_Pune Station To Masulkar Colony_Up-...   \n",
       "3792               140  NORMAL_140_Pune Station To Upper Depot_Down-17...   \n",
       "14587              324  NORMAL_324_Bhosari To Hinjawadi Maan Phase 3_U...   \n",
       "\n",
       "       direction_id          first_stop                        last_stop  \\\n",
       "20818             0            Swargate  Pandavnagar Senapati Bapat Road   \n",
       "15000             0       Taljai Pathar                       Na Ta Wadi   \n",
       "14716             0  Pune Station Depot                  Masulkar Colony   \n",
       "3792              0        Pune Station                      Upper Depot   \n",
       "14587             0             Bhosari         Hinjawadi - Maan Phase 3   \n",
       "\n",
       "       num_stops                                           geometry  \n",
       "20818         22  LINESTRING (73.85817 18.49928,73.85369 18.5031...  \n",
       "15000         27  LINESTRING (73.84694 18.46852,73.85113 18.4678...  \n",
       "14716         35  LINESTRING (73.87683 18.52652,73.87669 18.5256...  \n",
       "3792          28  LINESTRING (73.87304 18.52737,73.87669 18.5256...  \n",
       "14587         42  LINESTRING (73.85127 18.62462,73.85034 18.6188...  "
      ]
     },
     "execution_count": 28,
     "metadata": {},
     "output_type": "execute_result"
    }
   ],
   "source": [
    "df6.sample(5)"
   ]
  },
  {
   "cell_type": "code",
   "execution_count": null,
   "id": "80f14c03-deb3-493c-b86e-001fe8b66a90",
   "metadata": {},
   "outputs": [],
   "source": []
  },
  {
   "cell_type": "markdown",
   "id": "2fdb1f34-7269-4cef-ae8c-2d23baede4a2",
   "metadata": {},
   "source": [
    "### de-duplicate to keep only unique route + geometry"
   ]
  },
  {
   "cell_type": "code",
   "execution_count": 29,
   "id": "faf02f5b-6188-47ef-88ec-1b8fbfa3ee21",
   "metadata": {
    "tags": []
   },
   "outputs": [],
   "source": [
    "df7 = df6.drop_duplicates(['route_short_name', 'geometry']).copy()"
   ]
  },
  {
   "cell_type": "code",
   "execution_count": 30,
   "id": "bc2228a3-f02b-4fa9-ae4e-dec9828a50df",
   "metadata": {
    "tags": []
   },
   "outputs": [
    {
     "data": {
      "text/plain": [
       "(21804, 986)"
      ]
     },
     "execution_count": 30,
     "metadata": {},
     "output_type": "execute_result"
    }
   ],
   "source": [
    "# compare to see how many duplicates removed\n",
    "len(df6), len(df7)"
   ]
  },
  {
   "cell_type": "markdown",
   "id": "12065aca-da14-444e-bf44-2473c64351d0",
   "metadata": {},
   "source": [
    "## data cleaning : there's one route with just 1 stop that's causing problems later"
   ]
  },
  {
   "cell_type": "code",
   "execution_count": 31,
   "id": "fcc43217-41e7-49a8-9d8e-1ed340a9c9dd",
   "metadata": {
    "tags": []
   },
   "outputs": [
    {
     "data": {
      "text/html": [
       "<div>\n",
       "<style scoped>\n",
       "    .dataframe tbody tr th:only-of-type {\n",
       "        vertical-align: middle;\n",
       "    }\n",
       "\n",
       "    .dataframe tbody tr th {\n",
       "        vertical-align: top;\n",
       "    }\n",
       "\n",
       "    .dataframe thead th {\n",
       "        text-align: right;\n",
       "    }\n",
       "</style>\n",
       "<table border=\"1\" class=\"dataframe\">\n",
       "  <thead>\n",
       "    <tr style=\"text-align: right;\">\n",
       "      <th></th>\n",
       "      <th>route_short_name</th>\n",
       "      <th>trip_id</th>\n",
       "      <th>direction_id</th>\n",
       "      <th>first_stop</th>\n",
       "      <th>last_stop</th>\n",
       "      <th>num_stops</th>\n",
       "      <th>geometry</th>\n",
       "    </tr>\n",
       "  </thead>\n",
       "  <tbody>\n",
       "    <tr>\n",
       "      <th>583</th>\n",
       "      <td>107</td>\n",
       "      <td>NORMAL_107_Gharkul Vasahat Warje To Pimplegura...</td>\n",
       "      <td>1</td>\n",
       "      <td>Kothrud Stand</td>\n",
       "      <td>Kothrud Stand</td>\n",
       "      <td>1</td>\n",
       "      <td>LINESTRING (73.81384 18.49958)</td>\n",
       "    </tr>\n",
       "  </tbody>\n",
       "</table>\n",
       "</div>"
      ],
      "text/plain": [
       "    route_short_name                                            trip_id  \\\n",
       "583              107  NORMAL_107_Gharkul Vasahat Warje To Pimplegura...   \n",
       "\n",
       "     direction_id     first_stop      last_stop  num_stops  \\\n",
       "583             1  Kothrud Stand  Kothrud Stand          1   \n",
       "\n",
       "                           geometry  \n",
       "583  LINESTRING (73.81384 18.49958)  "
      ]
     },
     "execution_count": 31,
     "metadata": {},
     "output_type": "execute_result"
    }
   ],
   "source": [
    "df7.query(\" num_stops <= 1 \")"
   ]
  },
  {
   "cell_type": "code",
   "execution_count": 32,
   "id": "88cfe391-b7e8-4983-9cb0-216b31c8b7bf",
   "metadata": {
    "tags": []
   },
   "outputs": [],
   "source": [
    "df8 = df7.query(\" num_stops > 1 \").copy()"
   ]
  },
  {
   "cell_type": "code",
   "execution_count": 33,
   "id": "d21856e5-37ee-48c4-8b46-0c31cca8596c",
   "metadata": {
    "tags": []
   },
   "outputs": [
    {
     "data": {
      "text/html": [
       "<div>\n",
       "<style scoped>\n",
       "    .dataframe tbody tr th:only-of-type {\n",
       "        vertical-align: middle;\n",
       "    }\n",
       "\n",
       "    .dataframe tbody tr th {\n",
       "        vertical-align: top;\n",
       "    }\n",
       "\n",
       "    .dataframe thead th {\n",
       "        text-align: right;\n",
       "    }\n",
       "</style>\n",
       "<table border=\"1\" class=\"dataframe\">\n",
       "  <thead>\n",
       "    <tr style=\"text-align: right;\">\n",
       "      <th></th>\n",
       "      <th>route_short_name</th>\n",
       "      <th>trip_id</th>\n",
       "      <th>direction_id</th>\n",
       "      <th>first_stop</th>\n",
       "      <th>last_stop</th>\n",
       "      <th>num_stops</th>\n",
       "      <th>geometry</th>\n",
       "    </tr>\n",
       "  </thead>\n",
       "  <tbody>\n",
       "    <tr>\n",
       "      <th>8368</th>\n",
       "      <td>19D</td>\n",
       "      <td>NORMAL_19D_Shivajinagar To Trinity College_Dow...</td>\n",
       "      <td>0</td>\n",
       "      <td>Shivajinagar</td>\n",
       "      <td>Trinity College</td>\n",
       "      <td>39</td>\n",
       "      <td>LINESTRING (73.84926 18.53257,73.85234 18.5286...</td>\n",
       "    </tr>\n",
       "    <tr>\n",
       "      <th>15249</th>\n",
       "      <td>333</td>\n",
       "      <td>NORMAL_333_Hinjawadi Maan Phase 3 To Pune Stat...</td>\n",
       "      <td>0</td>\n",
       "      <td>Hinjawadi - Maan Phase 3</td>\n",
       "      <td>Pune Station Depot</td>\n",
       "      <td>44</td>\n",
       "      <td>LINESTRING (73.68818 18.57655,73.6876 18.5811,...</td>\n",
       "    </tr>\n",
       "    <tr>\n",
       "      <th>15289</th>\n",
       "      <td>334</td>\n",
       "      <td>NORMAL_334_Gharkul Vasahat Chikhali To Pimprig...</td>\n",
       "      <td>0</td>\n",
       "      <td>Gharkul</td>\n",
       "      <td>Pimprigaon</td>\n",
       "      <td>23</td>\n",
       "      <td>LINESTRING (73.80636 18.66955,73.80589 18.6656...</td>\n",
       "    </tr>\n",
       "    <tr>\n",
       "      <th>12631</th>\n",
       "      <td>301</td>\n",
       "      <td>NORMAL_301_Swargate To Hadapsar Gadital_Up-0730_0</td>\n",
       "      <td>1</td>\n",
       "      <td>Swargate</td>\n",
       "      <td>Hadapsar Gadital Solapur Road</td>\n",
       "      <td>15</td>\n",
       "      <td>LINESTRING (73.85817 18.49928,73.86139 18.5003...</td>\n",
       "    </tr>\n",
       "    <tr>\n",
       "      <th>15046</th>\n",
       "      <td>331</td>\n",
       "      <td>NORMAL_331_Bhosari To Rahatnigaon_Up-0600_0</td>\n",
       "      <td>0</td>\n",
       "      <td>Gavhane vasti</td>\n",
       "      <td>Rahatani Gaon</td>\n",
       "      <td>31</td>\n",
       "      <td>LINESTRING (73.84921 18.62045,73.84645 18.6203...</td>\n",
       "    </tr>\n",
       "  </tbody>\n",
       "</table>\n",
       "</div>"
      ],
      "text/plain": [
       "      route_short_name                                            trip_id  \\\n",
       "8368               19D  NORMAL_19D_Shivajinagar To Trinity College_Dow...   \n",
       "15249              333  NORMAL_333_Hinjawadi Maan Phase 3 To Pune Stat...   \n",
       "15289              334  NORMAL_334_Gharkul Vasahat Chikhali To Pimprig...   \n",
       "12631              301  NORMAL_301_Swargate To Hadapsar Gadital_Up-0730_0   \n",
       "15046              331        NORMAL_331_Bhosari To Rahatnigaon_Up-0600_0   \n",
       "\n",
       "       direction_id                first_stop                      last_stop  \\\n",
       "8368              0              Shivajinagar                Trinity College   \n",
       "15249             0  Hinjawadi - Maan Phase 3             Pune Station Depot   \n",
       "15289             0                   Gharkul                     Pimprigaon   \n",
       "12631             1                  Swargate  Hadapsar Gadital Solapur Road   \n",
       "15046             0             Gavhane vasti                  Rahatani Gaon   \n",
       "\n",
       "       num_stops                                           geometry  \n",
       "8368          39  LINESTRING (73.84926 18.53257,73.85234 18.5286...  \n",
       "15249         44  LINESTRING (73.68818 18.57655,73.6876 18.5811,...  \n",
       "15289         23  LINESTRING (73.80636 18.66955,73.80589 18.6656...  \n",
       "12631         15  LINESTRING (73.85817 18.49928,73.86139 18.5003...  \n",
       "15046         31  LINESTRING (73.84921 18.62045,73.84645 18.6203...  "
      ]
     },
     "execution_count": 33,
     "metadata": {},
     "output_type": "execute_result"
    }
   ],
   "source": [
    "df8.sample(5)"
   ]
  },
  {
   "cell_type": "markdown",
   "id": "7bddecef-511a-4a66-8293-0268d8b9e8c0",
   "metadata": {},
   "source": [
    "### export route lines as CSV WKT file"
   ]
  },
  {
   "cell_type": "code",
   "execution_count": 34,
   "id": "9d43e101-c528-4384-9306-58f0e908f507",
   "metadata": {
    "tags": []
   },
   "outputs": [],
   "source": [
    "df8.to_csv('trip-lines-wkt.csv',index=False)"
   ]
  },
  {
   "cell_type": "code",
   "execution_count": null,
   "id": "c9e6a6be-6123-420e-ad03-91f40e103046",
   "metadata": {},
   "outputs": [],
   "source": []
  },
  {
   "cell_type": "markdown",
   "id": "e0af680b-265d-4009-92ee-73287f0aef37",
   "metadata": {
    "tags": []
   },
   "source": [
    "## Make into GeoDataFrame and save as .geojson shapefile\n",
    "you could also load the WKT file into QGIS etc by Layer > Delimited Text.. , but working with .geojson is lot easier in many cases"
   ]
  },
  {
   "cell_type": "code",
   "execution_count": 35,
   "id": "f4379337-ad50-441b-9f94-1aa844470498",
   "metadata": {
    "tags": []
   },
   "outputs": [],
   "source": [
    "df9 = df8.copy()\n",
    "df9['geometry'] = df9['geometry'].apply(wkt.loads)"
   ]
  },
  {
   "cell_type": "code",
   "execution_count": 36,
   "id": "07137e9a-9c02-427d-839f-b14ce45223e9",
   "metadata": {
    "tags": []
   },
   "outputs": [],
   "source": [
    "gdf1 = gpd.GeoDataFrame(df9, geometry='geometry')"
   ]
  },
  {
   "cell_type": "code",
   "execution_count": 37,
   "id": "9ae36779-d18e-41c5-8889-c1b068655507",
   "metadata": {
    "tags": []
   },
   "outputs": [
    {
     "data": {
      "text/plain": [
       "<Axes: >"
      ]
     },
     "execution_count": 37,
     "metadata": {},
     "output_type": "execute_result"
    },
    {
     "data": {
      "image/png": "[encoded data removed]",
      "text/plain": [
       "<Figure size 640x480 with 1 Axes>"
      ]
     },
     "metadata": {},
     "output_type": "display_data"
    }
   ],
   "source": [
    "gdf1.plot()"
   ]
  },
  {
   "cell_type": "markdown",
   "id": "97c4041a-b4d3-4aeb-a128-d9f3a9fe0135",
   "metadata": {},
   "source": [
    "### export route lines as .geojson"
   ]
  },
  {
   "cell_type": "code",
   "execution_count": 38,
   "id": "c7472f6d-92f2-472d-83f3-0bb6a9c91dc2",
   "metadata": {
    "tags": []
   },
   "outputs": [],
   "source": [
    "gdf1.to_file('trip-lines.geojson')"
   ]
  },
  {
   "cell_type": "code",
   "execution_count": null,
   "id": "f27bdcdb-77a9-4272-b1e5-00c48ff15f9a",
   "metadata": {},
   "outputs": [],
   "source": []
  }
 ],
 "metadata": {
  "kernelspec": {
   "display_name": "Python 3 (ipykernel)",
   "language": "python",
   "name": "python3"
  },
  "language_info": {
   "codemirror_mode": {
    "name": "ipython",
    "version": 3
   },
   "file_extension": ".py",
   "mimetype": "text/x-python",
   "name": "python",
   "nbconvert_exporter": "python",
   "pygments_lexer": "ipython3",
   "version": "3.11.2"
  }
 },
 "nbformat": 4,
 "nbformat_minor": 5
}
